{
 "cells": [
  {
   "cell_type": "code",
   "execution_count": null,
   "id": "1bda5c13-4b36-4746-974e-240a43906544",
   "metadata": {
    "id": "1bda5c13-4b36-4746-974e-240a43906544"
   },
   "outputs": [],
   "source": [
    "import numpy as np\n",
    "import matplotlib.pyplot as plt\n",
    "from sympy import symbols, solve, diff, sin"
   ]
  },
  {
   "cell_type": "markdown",
   "id": "2aed513b-5680-4d23-90f7-3aa58dcd40ac",
   "metadata": {
    "id": "2aed513b-5680-4d23-90f7-3aa58dcd40ac"
   },
   "source": [
    "# Derivaatta"
   ]
  },
  {
   "cell_type": "markdown",
   "id": "1b7a58f9-7fb7-41cd-9838-e30f2e05cde9",
   "metadata": {
    "id": "1b7a58f9-7fb7-41cd-9838-e30f2e05cde9"
   },
   "source": [
    "Funktion derivaatta $f'(x)$ tarkoittaa funktion hetkellistä kasvunopeutta pisteessä $x$. Havainnollisesti derivaatta on funktion kuvaajalle pisteeseen $x$ piirretyn tangenttisuoran kulmakerroin. Derivaatta lasketaan erotusosamäärän raja-arvona\n",
    "\\begin{equation*}\n",
    "f'(x) = \\lim_{\\Delta x\\to 0} \\frac{\\Delta f}{\\Delta x} = \\lim_{\\Delta x\\to 0} \\frac{f(x + \\Delta x) - f(x)}{\\Delta x},\n",
    "\\end{equation*}\n",
    "missä funktion arvoa pisteessä $x$ verrataan \"lähellä\" olevaan pisteeseen $x + \\Delta x$ ja tutkitaan lähestyykö osamäärä jotain lukua, kun $\\Delta x$ lähestyy rajatta nollaa."
   ]
  },
  {
   "cell_type": "markdown",
   "id": "13dbf0a4-5742-4eab-be4b-1641bcff9c63",
   "metadata": {
    "id": "13dbf0a4-5742-4eab-be4b-1641bcff9c63"
   },
   "source": [
    "## Numeerinen derivointi"
   ]
  },
  {
   "cell_type": "markdown",
   "id": "8eb66d85-75c6-4014-bf5e-478e379aaa52",
   "metadata": {
    "id": "8eb66d85-75c6-4014-bf5e-478e379aaa52"
   },
   "source": [
    "### Kaksipistekaava"
   ]
  },
  {
   "cell_type": "markdown",
   "id": "83481e7a-63e2-428f-b218-cc5bb9b6a0ee",
   "metadata": {
    "id": "83481e7a-63e2-428f-b218-cc5bb9b6a0ee"
   },
   "source": [
    "Derivaatalle voi laskea numeerisen likiarvon antamalla luvulle $\\Delta x$ pienen mutta nollasta poikkeavan arvon. Tutkitaan esimerkiksi funktion\n",
    "$$f(x) = x^2$$\n",
    "derivaattaa pisteessä $x = 2$. Derivaatan likiarvo saadaan nyt kaavasta\n",
    "\\begin{equation}\n",
    "f'(x) \\approx \\frac{f(x + \\Delta x) - f(x)}{\\Delta x},\\qquad (1)\n",
    "\\end{equation}\n",
    "Kaavaa (1) kutsutaan **kaksipistekaavaksi**, koska siinä tutkitaan pisteen $x$ lisäksi yhtä toista toista pistettä $x + \\Delta x$. Tarkka arvo funktion derivaatalle pisteessä $x = 2$ on $f'(2) = 4$."
   ]
  },
  {
   "cell_type": "code",
   "execution_count": null,
   "id": "621bc635-4210-47b9-8af7-fc7ab1d5eb81",
   "metadata": {
    "id": "621bc635-4210-47b9-8af7-fc7ab1d5eb81",
    "outputId": "a26f23c7-ffd6-4b7f-97ab-02b3b6f307f0"
   },
   "outputs": [
    {
     "name": "stdout",
     "output_type": "stream",
     "text": [
      "Derivaatta: 4.000999999999699      Virhe: 0.0009999999996992415\n"
     ]
    }
   ],
   "source": [
    "def f(x):\n",
    "    return x**2\n",
    "\n",
    "dx = 10**(-3)\n",
    "x = 2\n",
    "derivaatta = (f(x + dx) - f(x))/dx\n",
    "virhe = np.abs(derivaatta - 4)\n",
    "print('Derivaatta:', derivaatta, '     Virhe:', virhe)"
   ]
  },
  {
   "cell_type": "markdown",
   "id": "dd6a427e-fc54-4d9b-bcd1-25be268b1032",
   "metadata": {
    "id": "dd6a427e-fc54-4d9b-bcd1-25be268b1032"
   },
   "source": [
    "### Kolmipistekaava"
   ]
  },
  {
   "cell_type": "markdown",
   "id": "8f1c2259-3275-4aa1-96b8-c177930c9e8b",
   "metadata": {
    "id": "8f1c2259-3275-4aa1-96b8-c177930c9e8b"
   },
   "source": [
    "Yleensä tarkempi likiarvo derivaatalle saadaan **kolmipistekaavalla**, jossa pisteen lisäksi tutkitaan kahta symmetrisesti vasemmalla ja oikealla sijaitsevaa pistettä $x - \\Delta x$ ja $x + \\Delta x$. Huomaa että pisteiden etäisyys toisistaan on $2\\Delta x$, joten tätä lukua pitää käyttää jakajassa.\n",
    "\\begin{equation}\n",
    "f'(x) \\approx \\frac{f(x + \\Delta x) - f(x - \\Delta x)}{2\\Delta x},\\qquad (1)\n",
    "\\end{equation}"
   ]
  },
  {
   "cell_type": "code",
   "execution_count": null,
   "id": "354b4ff8-5416-430f-850e-30376f87f6b9",
   "metadata": {
    "id": "354b4ff8-5416-430f-850e-30376f87f6b9",
    "outputId": "3a11af8e-35a3-4d3c-936e-147d7f89c998"
   },
   "outputs": [
    {
     "name": "stdout",
     "output_type": "stream",
     "text": [
      "Derivaatta: 3.9999999999995595      Virhe: 4.405364961712621e-13\n"
     ]
    }
   ],
   "source": [
    "def f(x):\n",
    "    return x**2\n",
    "\n",
    "dx = 10**(-3)\n",
    "x = 2\n",
    "derivaatta = (f(x + dx) - f(x - dx))/(2*dx)\n",
    "virhe = np.abs(derivaatta - 4)\n",
    "print('Derivaatta:', derivaatta, '     Virhe:', virhe)"
   ]
  },
  {
   "cell_type": "markdown",
   "id": "b12756a3-ca08-4a13-8fbe-6a868ee85472",
   "metadata": {
    "id": "b12756a3-ca08-4a13-8fbe-6a868ee85472"
   },
   "source": [
    "Huomataan, että ainakin tässä tapauksessa kolmipistekaavan antama virhe on selvästi pienempi."
   ]
  },
  {
   "cell_type": "markdown",
   "source": [
    "## Symbolinen derivointi\n",
    "\n",
    "Derivaatan raja-arvomääritelmän (1) avulla voidaan johtaa derivaatan lauseke muuttujan $x$ funktiona kaikille perusfunktioille. Pythonissa derivaattafunktion lausekkeen voi muodostaa `sympy`-kirjaston avulla funktiolla `diff()`, jolle annetaan argumentteina derivoitava funktio sekä muuttujan nimi.\n",
    "\n",
    "Derivaatan arvo halutussa pisteessä voidaan laskea sijoittamalla muuttujan paikalle haluttu arvo `subs()`-metodin avulla."
   ],
   "metadata": {
    "id": "zpfO3XHPktLu"
   },
   "id": "zpfO3XHPktLu"
  },
  {
   "cell_type": "code",
   "execution_count": null,
   "id": "56dcac28-6202-423c-a51f-4131341e2d3e",
   "metadata": {
    "id": "56dcac28-6202-423c-a51f-4131341e2d3e"
   },
   "outputs": [],
   "source": [
    "from sympy import symbols, diff, exp, sin"
   ]
  },
  {
   "cell_type": "code",
   "execution_count": null,
   "id": "5126293f-a9fa-4095-85d8-f1735f5839d2",
   "metadata": {
    "id": "5126293f-a9fa-4095-85d8-f1735f5839d2",
    "outputId": "653d0550-3fe1-46e4-f682-610a27aa00ff",
    "colab": {
     "base_uri": "https://localhost:8080/",
     "height": 38
    },
    "executionInfo": {
     "status": "ok",
     "timestamp": 1714375187414,
     "user_tz": -180,
     "elapsed": 1345,
     "user": {
      "displayName": "Ilpo Kuivanen",
      "userId": "08150233617436070761"
     }
    }
   },
   "outputs": [
    {
     "output_type": "execute_result",
     "data": {
      "text/plain": [
       "10*x + 4"
      ],
      "text/latex": "$\\displaystyle 10 x + 4$"
     },
     "metadata": {},
     "execution_count": 2
    }
   ],
   "source": [
    "from sympy import symbols, diff, exp, sin\n",
    "x = symbols('x')\n",
    "diff(5*x**2+4*x, x)"
   ]
  },
  {
   "cell_type": "code",
   "execution_count": null,
   "metadata": {
    "outputId": "653d0550-3fe1-46e4-f682-610a27aa00ff",
    "colab": {
     "base_uri": "https://localhost:8080/",
     "height": 38
    },
    "executionInfo": {
     "status": "ok",
     "timestamp": 1714375187414,
     "user_tz": -180,
     "elapsed": 1345,
     "user": {
      "displayName": "Ilpo Kuivanen",
      "userId": "08150233617436070761"
     }
    },
    "id": "KVO6C744ZHbq"
   },
   "outputs": [
    {
     "output_type": "execute_result",
     "data": {
      "text/plain": [
       "10*x + 4"
      ],
      "text/latex": "$\\displaystyle 10 x + 4$"
     },
     "metadata": {},
     "execution_count": 2
    }
   ],
   "source": [
    "from sympy import symbols, diff, exp, sin\n",
    "x = symbols('x')\n",
    "diff(5*x**2+4*x, x)"
   ],
   "id": "KVO6C744ZHbq"
  },
  {
   "cell_type": "code",
   "source": [],
   "metadata": {
    "id": "CSh70nBjR6OJ"
   },
   "id": "CSh70nBjR6OJ",
   "execution_count": null,
   "outputs": []
  },
  {
   "cell_type": "markdown",
   "source": [
    "# Tehtäviä\n",
    "\n",
    "1. Laske sympyllä esimerkin $$2x^2-3$$ derivaatta.\n",
    "\n",
    "1. Laske funktion f (x)=sin x derivaatta numeerinen likiarvo kaksi- ja kolmepistekaavalla käyttäen askelpituutta\n",
    "Δ x=0,001 .\n",
    "\n",
    "1. Laske funktion $$f(x) = e^{(-x^2)}$$ derivaatan numeerinen likiarvo kolmipistekaavalla pisteessä x = 1.5. Käytä askelpituutta dx = 0.001.\n",
    "\n",
    "1. Perusanalyysi, kpl 3.2 s. 69, tehtävä 3.\n",
    "2. "
   ],
   "metadata": {
    "id": "c8Pd6qV-LguC"
   },
   "id": "c8Pd6qV-LguC"
  },
  {
   "cell_type": "code",
   "source": [
    "#T1\n",
    "from sympy import symbols, diff, exp, sin\n",
    "x = symbols('x')\n",
    "diff(2*x**2-3, x)\n",
    "\n",
    "\n"
   ],
   "metadata": {
    "id": "qc5x3CLhR3Qd",
    "ExecuteTime": {
     "end_time": "2024-05-05T14:07:11.192942700Z",
     "start_time": "2024-05-05T14:07:10.754738300Z"
    }
   },
   "id": "qc5x3CLhR3Qd",
   "execution_count": 1,
   "outputs": [
    {
     "data": {
      "text/plain": "4*x",
      "text/latex": "$\\displaystyle 4 x$"
     },
     "execution_count": 1,
     "metadata": {},
     "output_type": "execute_result"
    }
   ]
  },
  {
   "cell_type": "code",
   "execution_count": 9,
   "metadata": {
    "outputId": "9ace80b7-233f-45e9-9fe8-3a3311f71c95",
    "colab": {
     "base_uri": "https://localhost:8080/"
    },
    "executionInfo": {
     "status": "ok",
     "timestamp": 1714806446951,
     "user_tz": -180,
     "elapsed": 220,
     "user": {
      "displayName": "Ilpo Kuivanen",
      "userId": "08150233617436070761"
     }
    },
    "id": "wZ1IdKSJZKTn"
   },
   "outputs": [
    {
     "output_type": "stream",
     "name": "stdout",
     "text": [
      "5*x**4/6\n",
      "-0.666666666666667/x**1.66666666666667\n"
     ]
    }
   ],
   "source": [
    "from sympy import symbols, diff, exp, sin\n",
    "x = symbols('x')\n",
    "a=diff((x**5)/6, x)\n",
    "b=diff(x**(1/3)/x, x)\n",
    "print(a)\n",
    "print(b)"
   ],
   "id": "wZ1IdKSJZKTn"
  }
 ],
 "metadata": {
  "kernelspec": {
   "display_name": "Python 3 (ipykernel)",
   "language": "python",
   "name": "python3"
  },
  "language_info": {
   "codemirror_mode": {
    "name": "ipython",
    "version": 3
   },
   "file_extension": ".py",
   "mimetype": "text/x-python",
   "name": "python",
   "nbconvert_exporter": "python",
   "pygments_lexer": "ipython3",
   "version": "3.9.16"
  },
  "colab": {
   "provenance": [
    {
     "file_id": "1t9fa63i4lVOnqtXiH3v8kbWvXTApOinF",
     "timestamp": 1701413184599
    }
   ]
  }
 },
 "nbformat": 4,
 "nbformat_minor": 5
}
